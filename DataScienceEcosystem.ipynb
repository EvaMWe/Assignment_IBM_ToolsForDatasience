{
 "cells": [
  {
   "cell_type": "markdown",
   "id": "49836758",
   "metadata": {},
   "source": [
    "*Exercise 2: Create markdown cell with title of the notebook*"
   ]
  },
  {
   "cell_type": "markdown",
   "id": "df9c2712",
   "metadata": {},
   "source": [
    "# Data Science Tools and Ecosystem"
   ]
  },
  {
   "cell_type": "markdown",
   "id": "3f3c88d3",
   "metadata": {},
   "source": [
    "*Exercise 3 - Create a markdown cell for an introduction*"
   ]
  },
  {
   "cell_type": "markdown",
   "id": "ae74da5d",
   "metadata": {},
   "source": [
    "In this notebook, Data Science Tools and Ecosystem are summarized."
   ]
  },
  {
   "cell_type": "markdown",
   "id": "e259c4c7",
   "metadata": {},
   "source": [
    "*Exercise 10 - Insert a markdown cell to list Objectives*"
   ]
  },
  {
   "cell_type": "markdown",
   "id": "8571a454",
   "metadata": {},
   "source": [
    "**Objectives**\n",
    "- List popular languages for Data Science\n",
    "- List commonly used librarier used by Data Scientists\n",
    "- Table with imporatant Data Science tools\n",
    "- Examples for arithmetic expressions\n",
    "    - Multiplication and Sum\n",
    "    - Division"
   ]
  },
  {
   "cell_type": "markdown",
   "id": "d6737c8b",
   "metadata": {},
   "source": [
    "*Exercise 4 - Create a markdown cell to list data science languages*"
   ]
  },
  {
   "cell_type": "markdown",
   "id": "2549c948",
   "metadata": {},
   "source": [
    "Some of the popular languages that Data Scientists use are: \n",
    "1. Python \n",
    "2. R \n",
    "3. SQL \n",
    "4. Julia \n",
    "5. Java\n"
   ]
  },
  {
   "cell_type": "markdown",
   "id": "844b1945",
   "metadata": {},
   "source": [
    "*Exercise 5 - Create a markdown cell to list data science libraries*"
   ]
  },
  {
   "cell_type": "markdown",
   "id": "76963e8a",
   "metadata": {},
   "source": [
    "Some of the commonly used libraries used by Data Scientists include: \n",
    "1. Pandas \n",
    "2. Scikit \n",
    "3. SciPy \n",
    "4. Matplotlib \n",
    "5. NumPy \n",
    "6. TensorFlow"
   ]
  },
  {
   "cell_type": "markdown",
   "id": "2ead554f",
   "metadata": {},
   "source": [
    "*Exercise 6 - Create a markdown cell with a table of Data Science tools*"
   ]
  },
  {
   "cell_type": "markdown",
   "id": "877dbab0",
   "metadata": {},
   "source": [
    "Data Science Tools | \n",
    "------------- | \n",
    "Jupyter | \n",
    "Apache Zeppelin |\n",
    "Apache Spark | \n",
    "RStudio | \n",
    "Spyder | \n",
    "KNIME | "
   ]
  },
  {
   "cell_type": "markdown",
   "id": "c4fd7875",
   "metadata": {},
   "source": [
    "*Exercise 7 - Create a markdown cell introducing arithmetic expression examples*"
   ]
  },
  {
   "cell_type": "markdown",
   "id": "9ea464fe",
   "metadata": {},
   "source": [
    "### Below are a few examples of evaluating arithmetic expressions in Python"
   ]
  },
  {
   "cell_type": "markdown",
   "id": "fce48a52",
   "metadata": {},
   "source": [
    "*Exercise 8 - Create a code cell to multiply and add numbers*"
   ]
  },
  {
   "cell_type": "code",
   "execution_count": 1,
   "id": "166bd1d2",
   "metadata": {},
   "outputs": [
    {
     "data": {
      "text/plain": [
       "17"
      ]
     },
     "execution_count": 1,
     "metadata": {},
     "output_type": "execute_result"
    }
   ],
   "source": [
    "# This a simple arithmetic expression to mutiply then add integers\n",
    "(3*4)+5"
   ]
  },
  {
   "cell_type": "markdown",
   "id": "7f8bc771",
   "metadata": {},
   "source": [
    "*Exercise 9 - Create a code cell to convert minutes to hours*"
   ]
  },
  {
   "cell_type": "code",
   "execution_count": 2,
   "id": "94ed7c2e",
   "metadata": {},
   "outputs": [
    {
     "data": {
      "text/plain": [
       "3.3333333333333335"
      ]
     },
     "execution_count": 2,
     "metadata": {},
     "output_type": "execute_result"
    }
   ],
   "source": [
    "# This will convert 200 minutes to hours by diving by 60\n",
    "200/60"
   ]
  },
  {
   "cell_type": "markdown",
   "id": "6b0b0750",
   "metadata": {},
   "source": [
    "*Exercise 11 - Create a markdown cell to indicate the Author's name*"
   ]
  },
  {
   "cell_type": "markdown",
   "id": "2427d022",
   "metadata": {},
   "source": [
    "## Author\n",
    "Eva-Maria Weiss"
   ]
  },
  {
   "cell_type": "code",
   "execution_count": null,
   "id": "b15eb3c9",
   "metadata": {},
   "outputs": [],
   "source": []
  }
 ],
 "metadata": {
  "kernelspec": {
   "display_name": "Python 3 (ipykernel)",
   "language": "python",
   "name": "python3"
  },
  "language_info": {
   "codemirror_mode": {
    "name": "ipython",
    "version": 3
   },
   "file_extension": ".py",
   "mimetype": "text/x-python",
   "name": "python",
   "nbconvert_exporter": "python",
   "pygments_lexer": "ipython3",
   "version": "3.11.5"
  }
 },
 "nbformat": 4,
 "nbformat_minor": 5
}
